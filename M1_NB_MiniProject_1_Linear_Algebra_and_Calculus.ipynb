{
  "cells": [
    {
      "cell_type": "markdown",
      "metadata": {
        "id": "view-in-github",
        "colab_type": "text"
      },
      "source": [
        "<a href=\"https://colab.research.google.com/github/mann09/cds_mini_projects/blob/main/M1_NB_MiniProject_1_Linear_Algebra_and_Calculus.ipynb\" target=\"_parent\"><img src=\"https://colab.research.google.com/assets/colab-badge.svg\" alt=\"Open In Colab\"/></a>"
      ]
    },
    {
      "cell_type": "markdown",
      "metadata": {
        "id": "Vf7UdufgUVRm"
      },
      "source": [
        "## Mini Project on Solving Linear Systems of Linear Equations using Matrices, and Rate Equations using Direct Differentiation using Python"
      ]
    },
    {
      "cell_type": "markdown",
      "metadata": {
        "id": "TnGEuHJusOup"
      },
      "source": [
        "## Problem Statement"
      ]
    },
    {
      "cell_type": "markdown",
      "metadata": {
        "id": "xlkm2qM2sQ-T"
      },
      "source": [
        " The task is to advise a petroleum company on how to meet the demands of their customers for motor oil, diesel oil and gasoline."
      ]
    },
    {
      "cell_type": "markdown",
      "metadata": {
        "id": "cs0B3ScgUVRv"
      },
      "source": [
        "## Learning Objectives"
      ]
    },
    {
      "cell_type": "markdown",
      "metadata": {
        "id": "Sq5piVQRUVRw"
      },
      "source": [
        "At the end of the experiment, you will be able to\n",
        "\n",
        "* create arrays and matrices in python\n",
        "* understand the concepts of linear equations\n",
        "* solve the system of linear equations"
      ]
    },
    {
      "cell_type": "markdown",
      "metadata": {
        "id": "IvKa0MVttqXf"
      },
      "source": [
        "### Data"
      ]
    },
    {
      "cell_type": "markdown",
      "metadata": {
        "id": "dRrGFyZOtsAj"
      },
      "source": [
        "From a barrel of crude oil, in one day, factory $A$ can produce\n",
        "* 20 gallons of motor oil,\n",
        "* 10 gallons of diesel oil, and\n",
        "* 5 gallons of gasoline\n",
        "\n",
        "Similarly, factory $B$ can produce\n",
        "* 4 gallons of motor oil,\n",
        "* 14 gallons of diesel oil, and\n",
        "* 5 gallons of gasoline\n",
        "\n",
        "while factory $C$ can produce\n",
        "* 4 gallons of motor oil,\n",
        "* 5 gallons of diesel oil, and\n",
        "* 12 gallons of gasoline\n",
        "\n",
        "There is also waste in the form of paraffin, among other things. Factory $A$ has 3 gallons of paraffin to dispose of per barrel of crude, factory $B$ 5 gallons, and factory $C$ 2 gallons."
      ]
    },
    {
      "cell_type": "markdown",
      "metadata": {
        "id": "UK_englE4HnA"
      },
      "source": [
        "**Note:** Your conclusion should include a discussion of the nature of the terms *unique*, *no solution*, *overdetermined* and *underdetermined* as they apply in the context of the oil plants."
      ]
    },
    {
      "cell_type": "markdown",
      "metadata": {
        "id": "operating-latter"
      },
      "source": [
        "## Grading = 10 Points"
      ]
    },
    {
      "cell_type": "markdown",
      "metadata": {
        "id": "zAitCztdraex"
      },
      "source": [
        "### Create an array\n",
        "\n",
        "Create an array of size 2x3 with arbitrary values."
      ]
    },
    {
      "cell_type": "code",
      "execution_count": null,
      "metadata": {
        "id": "GVe891GQqX46"
      },
      "outputs": [],
      "source": [
        "import numpy as np\n",
        "from matplotlib import pyplot as plt\n",
        "import scipy.misc\n",
        "import sympy as sy\n",
        "from scipy.linalg import solve\n",
        "import random as rnd"
      ]
    },
    {
      "cell_type": "code",
      "execution_count": null,
      "metadata": {
        "id": "owKFXLLzrqVb",
        "colab": {
          "base_uri": "https://localhost:8080/"
        },
        "outputId": "2fd98408-56ef-494f-caf3-b159ff6a3aee"
      },
      "outputs": [
        {
          "name": "stdout",
          "output_type": "stream",
          "text": [
            "Give the number of rows:2\n",
            "Give the number of columns:3\n",
            "1 2 3\n",
            "4 5 6\n"
          ]
        }
      ],
      "source": [
        "Rows = int(input(\"Give the number of rows:\"))\n",
        "Columns = int(input(\"Give the number of columns:\"))\n",
        "\n",
        "# Initializing the matrix\n",
        "a_matrix = []\n",
        "\n",
        "# taking Rows and Columns matrix from the user\n",
        "for i in range(Rows):\n",
        "    # taking input for the row elements from the user  input in a single go separated by space e.g. 1 2 3\n",
        "    single_row = list(map(int, input().split()))\n",
        "    # appending the 'single_row' to the 'a_matrix'\n",
        "    a_matrix.append(single_row)\n",
        "# printing a_matrix given by user\n",
        "\n",
        "any_array_of_any_size=np.array(a_matrix)"
      ]
    },
    {
      "cell_type": "code",
      "source": [
        "any_array_of_any_size"
      ],
      "metadata": {
        "colab": {
          "base_uri": "https://localhost:8080/"
        },
        "id": "EaNTRt-ol_Fr",
        "outputId": "38594163-b7f2-4f8e-e88b-44f82a0a070d"
      },
      "execution_count": null,
      "outputs": [
        {
          "output_type": "execute_result",
          "data": {
            "text/plain": [
              "array([[1, 2, 3],\n",
              "       [4, 5, 6]])"
            ]
          },
          "metadata": {},
          "execution_count": 93
        }
      ]
    },
    {
      "cell_type": "markdown",
      "metadata": {
        "id": "K_7EztnGvzDK"
      },
      "source": [
        "### Create the system of Linear Equations"
      ]
    },
    {
      "cell_type": "markdown",
      "metadata": {
        "id": "zL9M9kmrv_ZA"
      },
      "source": [
        "Suppose the current daily demand from distributors is 6600 gallons of motor oil, 5100 gallons of diesel oil and 3100 of gasoline.\n",
        "\n",
        "Set up the system of equations which describes the above situation. Please include the units as well."
      ]
    },
    {
      "cell_type": "markdown",
      "metadata": {
        "id": "nbOcii0EZpUI"
      },
      "source": [
        "Let the number of barrels used by factory $A$, $B$ and $C$ are $x$, $y$ and $z$ respectively.\n",
        "\n",
        "Then the system of linear equations will be\n",
        "\n",
        "$$Motor\\ oil:\\ \\ \\ 20x + 4y + 4z = 6600$$\n",
        "\n",
        "$$Diesel\\ oil:\\ \\ \\ 10x + 14y + 5z = 5100$$\n",
        "\n",
        "$$Gasoline:\\ \\ \\ 5x + 5y + 12z = 3100$$"
      ]
    },
    {
      "cell_type": "markdown",
      "metadata": {
        "id": "1qLF2LvG2I8Y"
      },
      "source": [
        "### Solve the system of Linear Equation (2 points)"
      ]
    },
    {
      "cell_type": "markdown",
      "metadata": {
        "id": "FzjOkaq21_8L"
      },
      "source": [
        "How many barrels of crude oil each plant should get in order to meet the demand as a group. Remember that we can only provide each plant with an integral number of barrels."
      ]
    },
    {
      "cell_type": "markdown",
      "source": [
        "**Production capacity multiplied by barrels of crude oil gives us demand of distributors in Gallons**\n",
        "\n",
        "**Production capacity** in **Gallons** will be represented by **cap** and will be stored in an Numpy array\n",
        "\n",
        "**Crude oil volume** in **Barrels** will be represented by **cov**\n",
        "\n",
        "**Demand of distributors** in **Gallons** will be represented by **dod**"
      ],
      "metadata": {
        "id": "OzM6Ho9R8yTn"
      }
    },
    {
      "cell_type": "markdown",
      "source": [
        "\n",
        "\n",
        "---\n",
        "\n"
      ],
      "metadata": {
        "id": "QiLhlI3x-MI2"
      }
    },
    {
      "cell_type": "markdown",
      "source": [
        "###**(PRODUCTION_CAPACITY) X (CRUDE_OIL_VOLUME) = Demand_of_Distributors(DoD)**\n",
        "\n",
        "##[cap][cov]=[dod]\n",
        "\n",
        "###We have to find crude oil volume i.e. cov"
      ],
      "metadata": {
        "id": "IwPo9fA6-O7h"
      }
    },
    {
      "cell_type": "markdown",
      "source": [
        "\n",
        "\n",
        "---\n",
        "\n"
      ],
      "metadata": {
        "id": "8yNWJLn9-niY"
      }
    },
    {
      "cell_type": "code",
      "execution_count": null,
      "metadata": {
        "id": "Plx-kStlcGOW"
      },
      "outputs": [],
      "source": [
        "# Production capacity\n",
        "cap=np.array([[20,4,4],\n",
        "              [10,14,5],\n",
        "              [5,5,12]])"
      ]
    },
    {
      "cell_type": "code",
      "execution_count": null,
      "metadata": {
        "colab": {
          "base_uri": "https://localhost:8080/"
        },
        "id": "uvLxLCcj93jN",
        "outputId": "84b7a088-573a-48be-c095-6c5cadd50f2f"
      },
      "outputs": [
        {
          "output_type": "stream",
          "name": "stdout",
          "text": [
            "[[20  4  4]\n",
            " [10 14  5]\n",
            " [ 5  5 12]]\n"
          ]
        }
      ],
      "source": [
        "print(cap)"
      ]
    },
    {
      "cell_type": "code",
      "execution_count": null,
      "metadata": {
        "colab": {
          "base_uri": "https://localhost:8080/"
        },
        "id": "7oOUyAEYv-2n",
        "outputId": "ace15f94-8cd4-419e-fa9d-c60f8180b7af"
      },
      "outputs": [
        {
          "output_type": "execute_result",
          "data": {
            "text/plain": [
              "(3, 3)"
            ]
          },
          "metadata": {},
          "execution_count": 6
        }
      ],
      "source": [
        "cap.shape"
      ]
    },
    {
      "cell_type": "code",
      "execution_count": null,
      "metadata": {
        "id": "Ilc-QgwevkRw",
        "colab": {
          "base_uri": "https://localhost:8080/"
        },
        "outputId": "6026bb57-8ec3-438a-fb81-5c2db4b6b729"
      },
      "outputs": [
        {
          "output_type": "execute_result",
          "data": {
            "text/plain": [
              "(3,)"
            ]
          },
          "metadata": {},
          "execution_count": 97
        }
      ],
      "source": [
        "dod=np.array([6600,5100,3100])\n",
        "dod.shape"
      ]
    },
    {
      "cell_type": "code",
      "execution_count": null,
      "metadata": {
        "id": "IFfA5EC_wF1v",
        "colab": {
          "base_uri": "https://localhost:8080/"
        },
        "outputId": "4bc282e3-6f59-47c4-b836-efbfd51703aa"
      },
      "outputs": [
        {
          "output_type": "stream",
          "name": "stdout",
          "text": [
            "[287.25 128.75  85.  ]\n"
          ]
        }
      ],
      "source": [
        "cov=np.linalg.solve(cap,dod)\n",
        "print(cov)"
      ]
    },
    {
      "cell_type": "code",
      "execution_count": null,
      "metadata": {
        "colab": {
          "base_uri": "https://localhost:8080/"
        },
        "id": "zWNYas4YwWYG",
        "outputId": "08c94c65-308d-400c-fe44-46b6eddb3d5d"
      },
      "outputs": [
        {
          "output_type": "stream",
          "name": "stdout",
          "text": [
            "Crude oil volume needed by \n",
            "\n",
            " Factory A is 287 barrels \n",
            " Factory B is 129 barrels \n",
            " Factory C is 85 barrels\n"
          ]
        }
      ],
      "source": [
        "print(f'Crude oil volume needed by \\n\\n Factory A is {round(cov[0])} barrels \\n Factory B is {round(cov[1])} barrels \\n Factory C is {round(cov[2])} barrels')\n"
      ]
    },
    {
      "cell_type": "markdown",
      "metadata": {
        "id": "nY-rFiKAbVl3"
      },
      "source": [
        "Suppose the total demand for all products **doubled**. What would the solution now be? How does it compare to the original solution? Why, mathematically, should this have been expected?"
      ]
    },
    {
      "cell_type": "markdown",
      "source": [
        "###As demand of distributors is doubled, assuming the new demand as **new_dod**, we will calculate it as"
      ],
      "metadata": {
        "id": "IXcUYTwYAfmF"
      }
    },
    {
      "cell_type": "code",
      "execution_count": null,
      "metadata": {
        "colab": {
          "base_uri": "https://localhost:8080/"
        },
        "id": "x-p_nqADxWcj",
        "outputId": "25187941-7ee5-4c70-c33e-bf8d5fc580b6"
      },
      "outputs": [
        {
          "output_type": "stream",
          "name": "stdout",
          "text": [
            "[13200 10200  6200]\n"
          ]
        }
      ],
      "source": [
        "new_dod=2*dod # New demand of ditributors is doubled\n",
        "print(new_dod)"
      ]
    },
    {
      "cell_type": "markdown",
      "source": [
        "###**(PRODUCTION_CAPACITY) X (NEW_CRUDE_OIL_VOLUME) = New_Demand_of_Distributors(DoD)**\n",
        "\n",
        "##[cap][new_cov]=[new_dod]\n",
        "\n",
        "###We have to find new crude oil volume i.e. new_cov ASSUMING that production capacity remains fixed"
      ],
      "metadata": {
        "id": "ey8Z1LcoBig3"
      }
    },
    {
      "cell_type": "code",
      "execution_count": null,
      "metadata": {
        "colab": {
          "base_uri": "https://localhost:8080/"
        },
        "id": "OODSS2bFcjKV",
        "outputId": "8e4ad2bd-c607-4b5d-bde0-bb1db5e3216e"
      },
      "outputs": [
        {
          "output_type": "stream",
          "name": "stdout",
          "text": [
            "[574.5 257.5 170. ]\n",
            "New crude oil volume needed when we doubled the demand of distributors by \n",
            "\n",
            " Factory A is 574 barrels \n",
            " Factory B is 258 barrels \n",
            " Factory C is 170 barrels\n"
          ]
        }
      ],
      "source": [
        "new_cov=np.linalg.solve(cap,new_dod)\n",
        "\n",
        "print(new_cov)\n",
        "print(f'New crude oil volume needed when we doubled the demand of distributors by \\n\\n Factory A is {round(new_cov[0])} barrels \\n Factory B is {round(new_cov[1])} barrels \\n Factory C is {round(new_cov[2])} barrels')\n"
      ]
    },
    {
      "cell_type": "markdown",
      "metadata": {
        "id": "i6aNIKvzyQ4B"
      },
      "source": [
        "###As production capacity of plants is fixed, so any change in demand is going to impact the crude oil need which got doubled in this case"
      ]
    },
    {
      "cell_type": "markdown",
      "metadata": {
        "id": "p_1a-z0Gds6D"
      },
      "source": [
        "Suppose that the company acquires another group of distributors and that the daily demand of this group is 2000 gallons of motor oil, 4000 gallons of gasoline, and 4000 gallons of diesel oil. How would you set up production of just this supply? Are there any options (more than one way)?"
      ]
    },
    {
      "cell_type": "markdown",
      "metadata": {
        "id": "GM8UeOMw3zXe"
      },
      "source": [
        "###As we got new distributors, their new demand will be represented by **dod_newd** (demand of new distributors)"
      ]
    },
    {
      "cell_type": "code",
      "execution_count": null,
      "metadata": {
        "id": "fh7QDhsC3ysw"
      },
      "outputs": [],
      "source": [
        "dod_newd=np.array([2000, 4000, 4000])"
      ]
    },
    {
      "cell_type": "markdown",
      "source": [
        "###The combined demand is given by adding previous demand and new distibutors demand.  Combined demand will be denoted by **dod_combined** = **dod + dod_newd**"
      ],
      "metadata": {
        "id": "RRSbpnCKEazd"
      }
    },
    {
      "cell_type": "code",
      "execution_count": null,
      "metadata": {
        "colab": {
          "base_uri": "https://localhost:8080/"
        },
        "id": "gWaeKh6eQe2W",
        "outputId": "bfc175a2-73f1-4290-d264-9ef440689d57"
      },
      "outputs": [
        {
          "output_type": "stream",
          "name": "stdout",
          "text": [
            "[8600 9100 7100]\n"
          ]
        }
      ],
      "source": [
        "dod_combined = dod + dod_newd # Combining the old and new demand of distributors\n",
        "print(dod_combined)"
      ]
    },
    {
      "cell_type": "markdown",
      "metadata": {
        "id": "H4sayZf1etbN"
      },
      "source": [
        "Next, calculate the needs of each factory (in barrels of crude, as usual) to meet the total demand of both groups of distributors. When you have done this, compare your answer to results already obtained. What mathematical conclusion can you draw?"
      ]
    },
    {
      "cell_type": "code",
      "execution_count": null,
      "metadata": {
        "id": "Hjm5kcawewgT"
      },
      "outputs": [],
      "source": [
        "cov_combined = np.linalg.solve(cap,dod_combined) # Combined crude oil volume need for factories"
      ]
    },
    {
      "cell_type": "code",
      "execution_count": null,
      "metadata": {
        "colab": {
          "base_uri": "https://localhost:8080/"
        },
        "id": "fr-IoXJx5l70",
        "outputId": "59267eab-2f3e-4dc6-af2f-f26db01fc6ca"
      },
      "outputs": [
        {
          "output_type": "stream",
          "name": "stdout",
          "text": [
            "[299.75 316.25 335.  ]\n"
          ]
        }
      ],
      "source": [
        "print(cov_combined)"
      ]
    },
    {
      "cell_type": "code",
      "source": [
        "print(f'New combined crude oil volume needed when we combined the demand of old and newly added distributors by \\n\\n Factory A is {round(cov_combined[0])} barrels \\n Factory B is {round(cov_combined[1])} barrels \\n Factory C is {round(cov_combined[2])} barrels')\n"
      ],
      "metadata": {
        "colab": {
          "base_uri": "https://localhost:8080/"
        },
        "id": "fEqgr6b9F6rt",
        "outputId": "01c3dacb-771f-4cb3-d261-e318321ea994"
      },
      "execution_count": null,
      "outputs": [
        {
          "output_type": "stream",
          "name": "stdout",
          "text": [
            "New combined crude oil volume needed when we combined the demand of old and newly added distributors by \n",
            "\n",
            " Factory A is 300 barrels \n",
            " Factory B is 316 barrels \n",
            " Factory C is 335 barrels\n"
          ]
        }
      ]
    },
    {
      "cell_type": "markdown",
      "source": [
        "\n",
        "###Just for the comparison, the crude oil volume (in barrels) needed to meet the older demand of distributors was\n",
        "---\n",
        "\n"
      ],
      "metadata": {
        "id": "vyo-2dROGcu8"
      }
    },
    {
      "cell_type": "code",
      "source": [
        "print(f' Factory A is {round(cov[0])} barrels \\n Factory B is {round(cov[1])} barrels \\n Factory C is {round(cov[2])} barrels')"
      ],
      "metadata": {
        "colab": {
          "base_uri": "https://localhost:8080/"
        },
        "id": "g6TG6frnGiej",
        "outputId": "2a6a8325-e4d2-48b9-e922-d2096960b515"
      },
      "execution_count": null,
      "outputs": [
        {
          "output_type": "stream",
          "name": "stdout",
          "text": [
            " Factory A is 287 barrels \n",
            " Factory B is 129 barrels \n",
            " Factory C is 85 barrels\n"
          ]
        }
      ]
    },
    {
      "cell_type": "markdown",
      "source": [
        "\n",
        "\n",
        "\n",
        "---\n",
        "\n",
        "\n",
        "---\n",
        "\n",
        "\n"
      ],
      "metadata": {
        "id": "KzmhMVyTlsHu"
      }
    },
    {
      "cell_type": "markdown",
      "metadata": {
        "id": "ov7RWVpSpzhw"
      },
      "source": [
        "### Sensitivity and Robustness (1 point)"
      ]
    },
    {
      "cell_type": "markdown",
      "metadata": {
        "id": "G1MVw0x_fQMC"
      },
      "source": [
        "In real life applications, constants are rarely ever exactly equal to their stated value; certain amounts of uncertainty are always present. This is part of the reason for the science of statistics. In the above model, the daily productions for the plants would be averages over a period of time. Explore what effect small changes in the parameters have on the output.\n",
        "\n",
        "To do this, pick any 3 coefficients, one at a time, and increase or decrease them by 3%. For each case , note what effect this has on the solution, as a percentage change. Can you draw any overall conclusion?"
      ]
    },
    {
      "cell_type": "code",
      "execution_count": null,
      "metadata": {
        "colab": {
          "base_uri": "https://localhost:8080/"
        },
        "id": "VFLvhq13_BY7",
        "outputId": "1ce4583f-eb02-40cf-fc58-2a0e9dddd695"
      },
      "outputs": [
        {
          "output_type": "stream",
          "name": "stdout",
          "text": [
            "[[20  4  4]\n",
            " [10 14  5]\n",
            " [ 5  5 12]]\n"
          ]
        }
      ],
      "source": [
        "print(cap)"
      ]
    },
    {
      "cell_type": "code",
      "execution_count": null,
      "metadata": {
        "colab": {
          "base_uri": "https://localhost:8080/"
        },
        "id": "D2OXJ7A06oRG",
        "outputId": "f0f7819a-c607-434b-beca-b4ce7934f918"
      },
      "outputs": [
        {
          "output_type": "execute_result",
          "data": {
            "text/plain": [
              "array([20, 10,  5])"
            ]
          },
          "metadata": {},
          "execution_count": 108
        }
      ],
      "source": [
        "cap[:,0]"
      ]
    },
    {
      "cell_type": "code",
      "execution_count": null,
      "metadata": {
        "id": "mw5r7c2yCO0L",
        "colab": {
          "base_uri": "https://localhost:8080/"
        },
        "outputId": "7d62b047-25ea-4be3-b92d-553850becdea"
      },
      "outputs": [
        {
          "output_type": "stream",
          "name": "stdout",
          "text": [
            "Enter the raise/decrease % (e.g., for 3% enter 0.03)0.03\n",
            " Randomly selected the colum index is 0 which is column-1 in the matrix\n",
            "[[20.6   4.    4.  ]\n",
            " [10.3  14.    5.  ]\n",
            " [ 5.15  5.   12.  ]]\n"
          ]
        }
      ],
      "source": [
        "#Ask for input\n",
        "cap_inc = float(input('Enter the raise/decrease % (e.g., for 3% enter 0.03)'))\n",
        "\n",
        "varying_cap = cap # Creating the varying capacity matrix from Capacity matrix\n",
        "randomly_selected_feature_index = rnd.randint(0, 2) # Creating a random number b/w 0 and 2 to select the column index\n",
        "print(f\" Randomly selected the colum index is {randomly_selected_feature_index} which is column-{randomly_selected_feature_index+1} in the matrix\")\n",
        "\n",
        "varying_cap = varying_cap.astype(float) # Ensuring the data type is float\n",
        "varying_cap[:,randomly_selected_feature_index]*= (1+cap_inc) # Experimenting by increasing it by 3%\n",
        "print(varying_cap)"
      ]
    },
    {
      "cell_type": "code",
      "execution_count": null,
      "metadata": {
        "id": "2aKvHFGwFQ4z"
      },
      "outputs": [],
      "source": [
        "varying_cov=np.linalg.solve(varying_cap,dod)"
      ]
    },
    {
      "cell_type": "code",
      "execution_count": null,
      "metadata": {
        "colab": {
          "base_uri": "https://localhost:8080/"
        },
        "id": "GwpGEOonFgPD",
        "outputId": "d78d265a-152b-4d33-9cbe-dba96a19c305"
      },
      "outputs": [
        {
          "output_type": "stream",
          "name": "stdout",
          "text": [
            "Varying Crude oil volume needed by increasing all the coefficients by 3% taking only one column randomly is \n",
            "\n",
            " Factory A is 279 barrels \n",
            " Factory B is 129 barrels \n",
            " Factory C is 85 barrels\n"
          ]
        }
      ],
      "source": [
        "print(f'Varying Crude oil volume needed by increasing all the coefficients by 3% taking only one column randomly is \\n\\n Factory A is {round(varying_cov[0])} barrels \\n Factory B is {round(varying_cov[1])} barrels \\n Factory C is {round(varying_cov[2])} barrels')"
      ]
    },
    {
      "cell_type": "code",
      "source": [
        "# Old\n",
        "print(f' Factory A is {round(cov[0])} barrels \\n Factory B is {round(cov[1])} barrels \\n Factory C is {round(cov[2])} barrels')\n",
        "\n",
        "change_perc = ((varying_cov-cov)/cov)*100\n",
        "print(f\" The percentage change for A factory is {round(change_perc[0])} and for B & C are {round(change_perc[1])} & {round(change_perc[2])} respectively\")\n"
      ],
      "metadata": {
        "colab": {
          "base_uri": "https://localhost:8080/"
        },
        "id": "J9d9QwuqpbMs",
        "outputId": "5584d9db-7bfa-4ff1-e078-9901ea0088fa"
      },
      "execution_count": null,
      "outputs": [
        {
          "output_type": "stream",
          "name": "stdout",
          "text": [
            " Factory A is 287 barrels \n",
            " Factory B is 129 barrels \n",
            " Factory C is 85 barrels\n",
            " The percentage change for A factory is -3 and for B & C are 0 & 0 respectively\n"
          ]
        }
      ]
    },
    {
      "cell_type": "markdown",
      "source": [
        "####ask user to input percentage and increase/decrease and convert randomly selected index to translate to the known x,yz or factory name A, B, C so that it is figured out what changed and for which particular factory.\n",
        "\n",
        "If we change the individual co-eff one at a time, then the change in output (barrels prodcuced) is negligible."
      ],
      "metadata": {
        "id": "hFr4WcAqJjrF"
      }
    },
    {
      "cell_type": "markdown",
      "metadata": {
        "id": "JOj5wcxQpzhx"
      },
      "source": [
        "### A Plant Off-Line (1 point)"
      ]
    },
    {
      "cell_type": "markdown",
      "metadata": {
        "id": "Dbm0HcJ7frNz"
      },
      "source": [
        "Suppose factory $C$ is shut down by the EPA (Environmental Protection Agency) temporarily for excessive emissions into the atmosphere. If your demand is as it was originally (6600, 5100, 3100), what would you now say about the companies ability to meet it? What do you recommend they schedule for production now?"
      ]
    },
    {
      "cell_type": "code",
      "execution_count": null,
      "metadata": {
        "colab": {
          "base_uri": "https://localhost:8080/"
        },
        "id": "WPurHJGiJslN",
        "outputId": "e5feff8d-d072-4431-eef3-1da8b272d175"
      },
      "outputs": [
        {
          "output_type": "execute_result",
          "data": {
            "text/plain": [
              "array([[20,  4,  4],\n",
              "       [10, 14,  5],\n",
              "       [ 5,  5, 12]])"
            ]
          },
          "metadata": {},
          "execution_count": 34
        }
      ],
      "source": [
        "cap"
      ]
    },
    {
      "cell_type": "markdown",
      "source": [
        "###As factory C is shut down, its capacity would be zero and only factories A and B will run at their fixed capacity i.e. **cap**\n",
        "\n",
        "###Demand of distributors remains the same i.e. **dod**\n",
        "\n",
        "###We need to slice the capacity matrix to fetch only first two columns making third column belonging to C as zero"
      ],
      "metadata": {
        "id": "70L3lv9YJ94E"
      }
    },
    {
      "cell_type": "markdown",
      "source": [
        "\n",
        "\n",
        "---\n",
        "\n",
        "\n"
      ],
      "metadata": {
        "id": "HxrMwTYpKw4D"
      }
    },
    {
      "cell_type": "markdown",
      "source": [
        "Using 0 values for Factory C, we got singular matrix error which means that there is no solution. Hence, we used '**Least Square**' method which gave us an approximate solution."
      ],
      "metadata": {
        "id": "_yY_-NE6xD5t"
      }
    },
    {
      "cell_type": "code",
      "execution_count": null,
      "metadata": {
        "colab": {
          "base_uri": "https://localhost:8080/"
        },
        "id": "gpbtzvrVAST3",
        "outputId": "542752cf-23bc-4acc-ec43-5b6531a3a907"
      },
      "outputs": [
        {
          "output_type": "stream",
          "name": "stdout",
          "text": [
            "[[20  4]\n",
            " [10 14]\n",
            " [ 5  5]]\n"
          ]
        }
      ],
      "source": [
        "c_shut_cap=cap\n",
        "#c_shut_cap[:,2]=[0,0,0]\n",
        "c_shut_cap=np.delete(c_shut_cap,2,axis=1)\n",
        "print(c_shut_cap)"
      ]
    },
    {
      "cell_type": "code",
      "execution_count": null,
      "metadata": {
        "colab": {
          "base_uri": "https://localhost:8080/"
        },
        "id": "OqlNihYtLfsq",
        "outputId": "fc86151d-ce48-4b1e-c5b0-5b967789a472"
      },
      "outputs": [
        {
          "output_type": "execute_result",
          "data": {
            "text/plain": [
              "(3,)"
            ]
          },
          "metadata": {},
          "execution_count": 36
        }
      ],
      "source": [
        "dod.shape # shape of demand matrix"
      ]
    },
    {
      "cell_type": "code",
      "execution_count": null,
      "metadata": {
        "id": "d_7-JlC4I3mZ",
        "colab": {
          "base_uri": "https://localhost:8080/"
        },
        "outputId": "a1f5abfd-9613-4b29-9cb6-c87874975b0c"
      },
      "outputs": [
        {
          "output_type": "stream",
          "name": "stdout",
          "text": [
            "[299.47204969 168.47826087]\n"
          ]
        }
      ],
      "source": [
        "c_shut_cov=np.linalg.lstsq(c_shut_cap,dod,rcond=None)\n",
        "print(c_shut_cov[0])"
      ]
    },
    {
      "cell_type": "markdown",
      "metadata": {
        "id": "XRbJI8VvODNJ"
      },
      "source": [
        "The solution that we have an overdetermined. Hence, it does not give the unique solution.\n"
      ]
    },
    {
      "cell_type": "markdown",
      "source": [
        "\n",
        "\n",
        "---\n",
        "\n",
        "\n",
        "\n",
        "---\n",
        "\n"
      ],
      "metadata": {
        "id": "L5qMxhFgmE58"
      }
    },
    {
      "cell_type": "markdown",
      "metadata": {
        "id": "tZpzEVmEpzhx"
      },
      "source": [
        "### Buying another plant"
      ]
    },
    {
      "cell_type": "markdown",
      "metadata": {
        "id": "X0ghbS-s3Mel"
      },
      "source": [
        "####(Note the following given information. You will see questions in continuation to this, in the subsequent sections)\n",
        "\n",
        "This situation has caused enough concern that the CEO is considering buying another plant, identical to the third, and using it permanently. Assuming that all 4 plants are on line, what production do you recommend to meet the current demand (5000, 8500, 10000)? In general, what can you say about any increased flexibility that the 4th plant might provide?"
      ]
    },
    {
      "cell_type": "markdown",
      "metadata": {
        "id": "IcbiTq8zpzhx"
      },
      "source": [
        "Let the number of barrels used by factory $A$, $B$, $C$ and $D$ are $x$, $y$, $z$ and $w$ respectively.\n",
        "\n",
        "Then the system of linear equations will be\n",
        "\n",
        "$$20x + 4y + 4z + 4w = 5000$$\n",
        "\n",
        "$$10x + 14y + 5z + 5w = 8500$$\n",
        "\n",
        "$$5x + 5y + 12z + 12w = 10000$$\n",
        "\n",
        "The above system of linear equation has fewer equations than variables, hence it is *underdetermined* and cannot have a unique solution. In this case, there are either infinitely many solutions or no exact solution. We can solve it by keeping $w$ as constant and using [rref](http://linear.ups.edu/html/section-RREF.html) form to solve the system of linear equation.\n",
        "\n",
        "To know about rref implementation in python refer [here](https://docs.sympy.org/latest/tutorial/matrices.html#rref)."
      ]
    },
    {
      "cell_type": "code",
      "execution_count": null,
      "metadata": {
        "colab": {
          "base_uri": "https://localhost:8080/"
        },
        "id": "DnCYG65tB8gp",
        "outputId": "14edbbe0-9da1-456e-b3af-0ab175c5cd3d"
      },
      "outputs": [
        {
          "output_type": "execute_result",
          "data": {
            "text/plain": [
              "(Matrix([\n",
              " [1, 0, 0,   195/4],\n",
              " [0, 1, 0,  1325/4],\n",
              " [0, 0, 1, 675 - w]]),\n",
              " (0, 1, 2))"
            ]
          },
          "metadata": {},
          "execution_count": 38
        }
      ],
      "source": [
        "import sympy as sy\n",
        "\n",
        "# create symbol 'w'\n",
        "w = sy.Symbol(\"w\")\n",
        "A_aug = sy.Matrix([[20, 4, 4, 5000-4*w],\n",
        "                   [10, 14, 5, 8500-5*w],\n",
        "                   [5, 5, 12, 10000-12*w]])\n",
        "# show rref form\n",
        "A_aug.rref()"
      ]
    },
    {
      "cell_type": "markdown",
      "metadata": {
        "id": "1lcEL3n5pzhz"
      },
      "source": [
        "From the above result, it can be seen that 4th plant will share the number of barrels required by the 3rd plant only, while the requirement of 1st and 2nd plant will remain unaffected."
      ]
    },
    {
      "cell_type": "markdown",
      "metadata": {
        "id": "yE9hCfAMpzhz"
      },
      "source": [
        "### Calculate the amount of Paraffin supplied (1 point)"
      ]
    },
    {
      "cell_type": "markdown",
      "metadata": {
        "id": "u9HSGUeZquXD"
      },
      "source": [
        "The company has just found a candle company that will buy its paraffin. Under the current conditions (i.e, after buying another plant) for demand (5000, 8500, 10000), how much can be supplied to them per day?"
      ]
    },
    {
      "cell_type": "markdown",
      "metadata": {
        "id": "ilEui1GHA3Oh"
      },
      "source": [
        "According to the problem statement, factory $A$ has 3 gallons of paraffin to dispose of per barrel of crude oil, factory $B$ 5 gallons, and factory $C$ 2 gallons."
      ]
    },
    {
      "cell_type": "code",
      "source": [
        "import numpy as np\n",
        "paraffin = np.array([3, 5, 2]) # Paraffin volume in barrel disposed of per barrel of crude oil\n",
        "\n",
        "new_demand_curcond = np.array([5000, 8500, 10000])\n",
        "#new_demand_curcond = np.array([2000, 2000, 8000]) # experimenting\n",
        "#print('new_demand_curcond is',new_demand_curcond)\n",
        "#print('Dod is     ',dod)\n",
        "\n",
        "cap[:,2]=[8,10,24] # doubling the capacity of factory C and D since they are sharing the production\n",
        "\n",
        "print(cap)\n",
        "print(paraffin)\n",
        "####\n",
        "cov_test = np.linalg.solve(cap,new_demand_curcond) # Combined crude oil volume need for factories\n",
        "print(cov_test)\n",
        "#####\n",
        "\n",
        "out_paraf = cov_test*paraffin  # Projection to get the parafin volume as per new demand\n",
        "print(out_paraf)\n",
        "out_paraf = (sum(out_paraf).astype(int))\n",
        "\n",
        "print(f\"The total paraffin volume that can be supplied is {out_paraf} gallons per day\")"
      ],
      "metadata": {
        "colab": {
          "base_uri": "https://localhost:8080/"
        },
        "id": "yg2j44WuHSYz",
        "outputId": "58cf7470-5a38-46e5-b856-51cac134c46b"
      },
      "execution_count": null,
      "outputs": [
        {
          "output_type": "stream",
          "name": "stdout",
          "text": [
            "[[20  4  8]\n",
            " [10 14 10]\n",
            " [ 5  5 24]]\n",
            "[3 5 2]\n",
            "[ 48.75 331.25 337.5 ]\n",
            "[ 146.25 1656.25  675.  ]\n",
            "The total paraffin volume that can be supplied is 2477 gallons per day\n"
          ]
        }
      ]
    },
    {
      "cell_type": "markdown",
      "metadata": {
        "id": "sSpnIH4Ypzh0"
      },
      "source": [
        "### Selling the first plant (1 point)"
      ]
    },
    {
      "cell_type": "markdown",
      "metadata": {
        "id": "8l3c1GN14EDp"
      },
      "source": [
        "The management is also considering selling the first plant due to aging equipment and high workman's compensation costs for the state it is located in. They would like to know what this would do to their production capability. Specifically, they would like an example of a demand they could not meet with only plants 2 and 3, and also what effect having plant 4 has (recall it is identical to plant 3). They would also like an example of a demand that they could meet with just plants 2 and 3. Any general statements you could make here would be helpful."
      ]
    },
    {
      "cell_type": "markdown",
      "metadata": {
        "id": "qYz46wb2GTo7"
      },
      "source": [
        "Let the number of barrels used by factory $B$, $C$ and $D$ are $y$, $z$ and $w$ respectively.\n",
        "\n",
        "When considering only plants 2 and 3, and demand (5000, 8500, 10000) then we have\n",
        "\n",
        "$$4y + 4z = 5000$$\n",
        "\n",
        "$$14y + 5z = 8500$$\n",
        "\n",
        "$$5y + 12z = 10000$$"
      ]
    },
    {
      "cell_type": "code",
      "execution_count": null,
      "metadata": {
        "colab": {
          "base_uri": "https://localhost:8080/"
        },
        "id": "Ru-prbsHGwH_",
        "outputId": "76ff944f-3f98-4c42-b817-cda12a734c49"
      },
      "outputs": [
        {
          "output_type": "stream",
          "name": "stdout",
          "text": [
            "(3, 2)\n",
            "(3,)\n",
            "(array([369.30178881, 695.03750721]), array([607616.84939411]), 2, array([18.95513121,  7.91852263]))\n"
          ]
        },
        {
          "output_type": "stream",
          "name": "stderr",
          "text": [
            "<ipython-input-90-82d7035ed5ee>:9: FutureWarning: `rcond` parameter will change to the default of machine precision times ``max(M, N)`` where M and N are the input matrix dimensions.\n",
            "To use the future default and silence this warning we advise to pass `rcond=None`, to keep using the old, explicitly pass `rcond=-1`.\n",
            "  X = np.linalg.lstsq(not_A, demand)\n"
          ]
        }
      ],
      "source": [
        "not_A = np.array([[4, 4], [14, 5],[5, 12]]) # gallons per barrel leaving Factory A out --- (3x2)\n",
        "\n",
        "demand = np.array([5000, 8500, 10000]) #demand in barrels -- (3x1) matrix\n",
        "#demand = np.array([6000, 5100, 3100]) # experimental scenario  ------ [348.80820276 193.37298593]\n",
        "\n",
        "print(not_A.shape)\n",
        "print(demand.shape)\n",
        "\n",
        "X = np.linalg.lstsq(not_A, demand)\n",
        "print(X) # Index 0 = Solution, 1 = Residuals, 2 = rank, 3 = Singular Values"
      ]
    },
    {
      "cell_type": "markdown",
      "metadata": {
        "id": "bLsK1-zNEP0T"
      },
      "source": [
        "Taking 4th plant into consideration.\n",
        "Let the number of barrels used by factory $B$, $C$ and $D$ are $y$, $z$ and $w$ respectively.\n",
        "\n",
        "Then for demand (5000, 8500, 10000) the system of linear equations will be\n",
        "\n",
        "$$4y + 4z + 4w = 5000$$\n",
        "\n",
        "$$14y + 5z + 5w = 8500$$\n",
        "\n",
        "$$5y + 12z + 12w = 10000$$\n",
        "\n",
        "Solve it using rref form."
      ]
    },
    {
      "cell_type": "code",
      "execution_count": null,
      "metadata": {
        "colab": {
          "base_uri": "https://localhost:8080/"
        },
        "id": "8lO8KQWH_A15",
        "outputId": "42ace149-80e3-4f45-c7fa-bce8649a2e4f"
      },
      "outputs": [
        {
          "output_type": "stream",
          "name": "stdout",
          "text": [
            "(Matrix([\n",
            "[1, 0, 0],\n",
            "[0, 1, 1],\n",
            "[0, 0, 0]]), (0, 1))\n",
            "[[369.30178881]\n",
            " [347.51875361]]\n",
            " Total barrels that are required to meet the demand is [1063]\n",
            " Total barrels that are required to meet the demand by Factory B is 369\n",
            " Total barrels that are required to meet the demand by Factory C & D is 347 each\n"
          ]
        }
      ],
      "source": [
        "incl_D = sy.Matrix([[4, 4, 4],\n",
        "                    [14, 5, 5],\n",
        "                    [5, 12, 12]]) # Production capacity of the factories - including Factory B, C and D\n",
        "demand_D = sy.Matrix([5000, 8500, 10000]) #demand in barrels\n",
        "\n",
        "incl_D.rref()\n",
        "print(incl_D.rref())\n",
        "\n",
        "rref_form, pivot_cols = incl_D.rref() # \"A simplified version of the original matrix\" and \"A pivot column is a column that contains a leading 1 in the RREF\"\n",
        "#print(rref_form)\n",
        "\n",
        "incl_D=np.delete(incl_D,2,axis=1) # Delete 3rd column of the matrix\n",
        "incl_D[:,1] = incl_D[:,1]*2 # Combining the 2nd and 3rd columns\n",
        "incl_D = np.array(incl_D) # Ensuring the matrix is a numpy array\n",
        "demand_D = np.array(demand_D) # Ensuring the matrix is numpy array\n",
        "#print(incl_D)\n",
        "\n",
        "incl_D = incl_D.astype(float) # Ensuring the type is float\n",
        "demand_D = demand_D.astype(float) # Ensuring the type is float\n",
        "X = np.linalg.lstsq(incl_D, demand_D, rcond= None) # Using Least square method to solve\n",
        "print(X[0])\n",
        "tot_barr = sum(X[0]).astype(int) # 0 = X, 1 = residuls, 2 = rank, 3 = ndarray\n",
        "f_B = 369\n",
        "f_C = 347\n",
        "f_D = 347\n",
        "\n",
        "print(f\" Total barrels that are required to meet the demand is {tot_barr+f_D}\")\n",
        "print(f\" Total barrels that are required to meet the demand by Factory B is {f_B}\")\n",
        "print(f\" Total barrels that are required to meet the demand by Factory C & D is {f_C} each\")\n"
      ]
    },
    {
      "cell_type": "markdown",
      "source": [
        "**CONCLUSION**:\n",
        "\n",
        " Since, there is no maximum production capacity given for factories and we can split the demand to other available factories to compensate the absence of Factory A\n",
        "  \n",
        "###########################################\n",
        "\n"
      ],
      "metadata": {
        "id": "JMehQDplZNiD"
      }
    },
    {
      "cell_type": "markdown",
      "metadata": {
        "id": "u7SDjgFkP5fj"
      },
      "source": [
        "Now, changing demand to (6600, 5100, 3100) and solving the system of equation using rref form."
      ]
    },
    {
      "cell_type": "code",
      "execution_count": null,
      "metadata": {
        "colab": {
          "base_uri": "https://localhost:8080/"
        },
        "id": "nwSpgbqAGlON",
        "outputId": "0a99e5cb-0364-4545-bcc9-b151e3072dbd"
      },
      "outputs": [
        {
          "output_type": "stream",
          "name": "stdout",
          "text": [
            "(Matrix([\n",
            "[1, 0, 0],\n",
            "[0, 1, 1],\n",
            "[0, 0, 0]]), (0, 1))\n",
            "Matrix([[1, 0, 0], [0, 1, 1], [0, 0, 0]])\n",
            "[[4 8]\n",
            " [14 10]\n",
            " [5 24]]\n",
            "[[352.96284788]\n",
            " [101.53357894]]\n",
            " Total barrels that are required to meet the demand is 556\n"
          ]
        }
      ],
      "source": [
        "incl_D1 = sy.Matrix([[4, 4, 4],\n",
        "                    [14, 5, 5],\n",
        "                    [5, 12, 12]]) # Production capacity of the factories - including Factory B, C and D\n",
        "demand_D1 = sy.Matrix([6600, 5100, 3100]) #demand in barrels\n",
        "\n",
        "incl_D1.rref() #reduced row echelon form of matrix including Factory D\n",
        "print(incl_D1.rref())\n",
        "\n",
        "rref_form, pivot_cols = incl_D1.rref() # \"A simplified version of the original matrix\" and \"A pivot column is a column that contains a leading 1 in the RREF\"\n",
        "print(rref_form)\n",
        "\n",
        "incl_D1=np.delete(incl_D1,2,axis=1) # Delete 3rd column of the matrix\n",
        "incl_D1[:,1] = incl_D1[:,1]*2 ## Combining the 2nd and 3rd columns\n",
        "incl_D1 = np.array(incl_D1) # Ensuring the matrix is a numpy array\n",
        "demand_D1 = np.array(demand_D1) # Ensuring the matrix is a numpy array\n",
        "print(incl_D1)\n",
        "\n",
        "incl_D1 = incl_D1.astype(float) # Ensuring the type is float\n",
        "demand_D1 = demand_D1.astype(float) # Ensuring the type is float\n",
        "X1 = np.linalg.lstsq(incl_D1, demand_D1, rcond= None)  # Using Least square method to solve,\n",
        "barr = sum(X1[0])\n",
        "print(X1[0])\n",
        "fac_D = 101.53\n",
        "print(f\" Total barrels that are required to meet the demand is {int(barr+fac_D)}\")\n"
      ]
    },
    {
      "cell_type": "markdown",
      "source": [
        "\n",
        "\n",
        "---\n",
        "\n",
        "\n",
        "\n",
        "---\n",
        "\n"
      ],
      "metadata": {
        "id": "tLz_rjgpmR8h"
      }
    },
    {
      "cell_type": "markdown",
      "metadata": {
        "id": "fngUPMK_pzh1"
      },
      "source": [
        "### Set rates for Products (1 point)"
      ]
    },
    {
      "cell_type": "markdown",
      "metadata": {
        "id": "8Go0tQYtpzh1"
      },
      "source": [
        "Company wants to set the rates of motor oil, diesel oil, and gasoline. For this purpose they have few suggestions given as follows:\n",
        "\n",
        "* 100, 66, 102 Rupees per gallon,\n",
        "\n",
        "* 104, 64, 100 Rupees per gallon,\n",
        "\n",
        "* 102, 68, 98 Rupees per gallon, and\n",
        "\n",
        "* 96, 68, 100 Rupees per gallon\n",
        "\n",
        "for motor oil, diesel oil, and gasoline respectively.\n",
        "\n",
        "Using matrix multiplication, find the rates which result in maximum total price."
      ]
    },
    {
      "cell_type": "markdown",
      "metadata": {
        "id": "9yRue5zIpzh1"
      },
      "source": [
        "Let $M$ denote the matrix such that rows represents different plants (A, B and C), columns represents different products (motor oil, diesel oil and gasoline) and each value represents production of that product from one barrel of crude oil for that plant.\n",
        "\n",
        "$$M = \\begin{bmatrix}\n",
        "20 & 10 & 5 \\\\\n",
        "4 & 14 & 5  \\\\\n",
        " 4 & 5 & 12  \n",
        "\\end{bmatrix}$$\n",
        "\n",
        "Also, $R$ is a matrix having different rates as its columns.\n",
        "\n",
        "$$R = \\begin{bmatrix}\n",
        "100 & 104 & 102 & 96 \\\\\n",
        "66 & 64 & 68 & 68  \\\\\n",
        "102 & 100 & 98 & 100  \n",
        "\\end{bmatrix}$$"
      ]
    },
    {
      "cell_type": "code",
      "execution_count": null,
      "metadata": {
        "colab": {
          "base_uri": "https://localhost:8080/"
        },
        "id": "Sz5Bef3npzh1",
        "outputId": "08553723-57eb-4e04-d296-3952bf020c89"
      },
      "outputs": [
        {
          "output_type": "stream",
          "name": "stdout",
          "text": [
            "[[100 104 102  96]\n",
            " [ 66  64  68  68]\n",
            " [102 100  98 100]]\n",
            "[[20 10  5]\n",
            " [ 4 14  5]\n",
            " [ 4  5 12]]\n",
            "[[3170 3220 3210 3100]\n",
            " [1834 1812 1850 1836]\n",
            " [1954 1936 1924 1924]]\n",
            "[6958 6968 6984 6860]\n",
            " The suggested price option is: 3 as it is yielding the highest i.e., 6984 from one barrel of crude oil\n",
            " Rates which result in max total price are: [102  68  98]\n"
          ]
        }
      ],
      "source": [
        "R = np.array([[100, 66, 102],\n",
        "              [104, 64, 100],\n",
        "              [102, 68, 98],\n",
        "              [96, 68, 100]]).T # Price matrix in correct format\n",
        "print(R)\n",
        "M = np.array([[20,4,4], [10,14,5], [5,5,12]]).T #Capacity\n",
        "print(M)\n",
        "\n",
        "out = np.matmul(M, R) # Multiplying the matrices (Product x Rate)\n",
        "print(out)\n",
        "\n",
        "sugg_sum = np.sum(out, axis = 0) # summing up the values by coulmns\n",
        "print(sugg_sum)\n",
        "price_option = (np.argmax(sugg_sum, axis = 0)+1) # adding 1 to idenitify the normal col index\n",
        "print(f\" The suggested price option is: {round(price_option)} as it is yielding the highest i.e., {max(sugg_sum)} from one barrel of crude oil\")\n",
        "\n",
        "print(\" Rates which result in max total price are:\",R[:,np.argmax(sugg_sum)])"
      ]
    },
    {
      "cell_type": "markdown",
      "metadata": {
        "id": "cga8JrkApzh1"
      },
      "source": [
        "### Marginal Cost (1 point)"
      ]
    },
    {
      "cell_type": "markdown",
      "metadata": {
        "id": "8nN5V5NXpzh2"
      },
      "source": [
        "The total cost $C(x)$ in Rupees, associated with the production of $x$ gallons of gasoline is given by\n",
        "\n",
        "$$C(x) = 0.005 x^3 – 0.02 x^2 + 30x + 5000$$\n",
        "\n",
        "Find the marginal cost when $22$ gallons are produced, where, marginal cost means the instantaneous rate of change of total cost at any level of output."
      ]
    },
    {
      "cell_type": "code",
      "execution_count": null,
      "metadata": {
        "colab": {
          "base_uri": "https://localhost:8080/"
        },
        "id": "rO-HMED3pzh2",
        "outputId": "d5215ad7-91fd-4ccf-c831-67372abd3510"
      },
      "outputs": [
        {
          "output_type": "stream",
          "name": "stdout",
          "text": [
            "0.005*x**3 - 0.02*x**2 + 30*x + 5000\n",
            "0.015*x**2 - 0.04*x + 30\n",
            " The marginal cost is: 36.38 per gallon\n"
          ]
        }
      ],
      "source": [
        "import sympy as sp\n",
        "x = sp.symbols('x')\n",
        "C = 0.005*x**3 - 0.02*x**2 + 30*x + 5000 # Cost's equation\n",
        "print(C)\n",
        "\n",
        "out = sp.diff(C, x) # calculates the derivative of the expression C with respect to the variable x.\n",
        "print(out)\n",
        "\n",
        "x_value = 22 # assign the x value\n",
        "m_cost = out.subs(x, x_value) # calculating the marginal cost by substituting x value with x_value (22)\n",
        "print(f\" The marginal cost is: {round(m_cost,2)} per gallon\")"
      ]
    },
    {
      "cell_type": "markdown",
      "metadata": {
        "id": "qOMlrDEhpzh2"
      },
      "source": [
        "### Marginal Revenue (1 point)"
      ]
    },
    {
      "cell_type": "markdown",
      "metadata": {
        "id": "bfS88lmWpzh2"
      },
      "source": [
        "The total revenue in Rupees received from the sale of $x$ gallons of a motor oil is given by $$R(x) = 3x^2 + 36x + 5.$$\n",
        "\n",
        "Find the marginal revenue, when $x = 28$, where, marginal revenue means the rate of change of total revenue with respect to the number of items sold at an instant."
      ]
    },
    {
      "cell_type": "code",
      "execution_count": null,
      "metadata": {
        "colab": {
          "base_uri": "https://localhost:8080/"
        },
        "id": "rb0h6p49pzh2",
        "outputId": "d31ec398-6f28-4a88-9c6d-6040aa3886c9"
      },
      "outputs": [
        {
          "output_type": "stream",
          "name": "stdout",
          "text": [
            "3*x**2 + 36*x + 5\n",
            "6*x + 36\n",
            " The marginal revenue is: 204 per gallon\n"
          ]
        }
      ],
      "source": [
        "R = 3*x**2 + 36*x + 5 # Marginal Revenue equation\n",
        "print(R)\n",
        "\n",
        "out1 = sp.diff(R, x) # calculates the derivative of the expression C with respect to the variable x.\n",
        "print(out1)\n",
        "\n",
        "x_value = 28 # Assign the value\n",
        "m_rev = out1.subs(x, x_value)  # calculating the marginal revenue by substituting x value with x_value (28)\n",
        "print(f\" The marginal revenue is: {round(m_rev)} per gallon\")"
      ]
    },
    {
      "cell_type": "markdown",
      "metadata": {
        "id": "ZKb5VuM_pzh2"
      },
      "source": [
        "### Pouring crude oil in tank (1 point)"
      ]
    },
    {
      "cell_type": "markdown",
      "metadata": {
        "id": "TD9zv5jPpzh2"
      },
      "source": [
        "In a cylindrical tank of radius 10 meter, crude oil is being poured at the rate of 314 cubic meter per hour. Then find\n",
        "\n",
        "* the rate at which the height of crude oil is increasing in the tank, and\n",
        "* the height of crude oil in tank after 2 hours."
      ]
    },
    {
      "cell_type": "code",
      "execution_count": null,
      "metadata": {
        "colab": {
          "base_uri": "https://localhost:8080/"
        },
        "id": "g6ntcdNypzh2",
        "outputId": "c9b9c876-c120-4ce8-ba4d-068a93e49bc0"
      },
      "outputs": [
        {
          "output_type": "stream",
          "name": "stdout",
          "text": [
            "h*pi*r**2\n",
            "1.0*t\n",
            "1.00\n",
            "\n",
            "The rate at which the height of the crude oil is increasing in the tank is 1.0*t where t is instantaneuous time. \n",
            "\n",
            "The height of the filled crude oil volume after 2 hours in the tank is 2.00000000000000 mtrs.\n"
          ]
        }
      ],
      "source": [
        "import sympy as sp\n",
        "t = sp.symbols('t')\n",
        "pi = sp.symbols('pi')\n",
        "r = sp.symbols('r')\n",
        "h = sp.symbols('h')\n",
        "\n",
        "volume = h*pi*r**2\n",
        "print(volume)\n",
        "\n",
        "phflow = 314*t # Equation for flow rate for time 't'\n",
        "\n",
        "r = 10\n",
        "pi = 3.14\n",
        "height = phflow/(pi*r**2)\n",
        "print(height)\n",
        "\n",
        "height_rate = sp.diff(height, t)\n",
        "print(format(height_rate,\"0.2f\"))\n",
        "print(f\"\\nThe rate at which the height of the crude oil is increasing in the tank is {height} where t is instantaneuous time. \\n\")\n",
        "print(f\"The height of the filled crude oil volume after 2 hours in the tank is {height.subs(t,2)} mtrs.\")"
      ]
    }
  ],
  "metadata": {
    "colab": {
      "provenance": [],
      "include_colab_link": true
    },
    "kernelspec": {
      "display_name": "Python 3",
      "language": "python",
      "name": "python3"
    },
    "language_info": {
      "codemirror_mode": {
        "name": "ipython",
        "version": 3
      },
      "file_extension": ".py",
      "mimetype": "text/x-python",
      "name": "python",
      "nbconvert_exporter": "python",
      "pygments_lexer": "ipython3",
      "version": "3.11.2"
    }
  },
  "nbformat": 4,
  "nbformat_minor": 0
}